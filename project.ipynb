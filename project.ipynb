{
 "cells": [
  {
   "cell_type": "code",
   "execution_count": null,
   "id": "5a00ef8d",
   "metadata": {},
   "outputs": [],
   "source": [
    "import numpy as np\n",
    "import pandas as pd\n",
    "import matplotlib.pyplot as plt\n",
    "import seaborn as sns"
   ]
  },
  {
   "cell_type": "markdown",
   "id": "639d887f",
   "metadata": {},
   "source": [
    "Create a DataFrame"
   ]
  },
  {
   "cell_type": "code",
   "execution_count": null,
   "id": "7c2edd02",
   "metadata": {},
   "outputs": [],
   "source": [
    "df = pd.read_csv('student_scores.csv')\n",
    "print(df.head())"
   ]
  },
  {
   "cell_type": "code",
   "execution_count": null,
   "id": "3a50c8c1",
   "metadata": {},
   "outputs": [],
   "source": [
    "df.describe()"
   ]
  },
  {
   "cell_type": "code",
   "execution_count": null,
   "id": "a01da53c",
   "metadata": {},
   "outputs": [],
   "source": [
    "df.info()"
   ]
  },
  {
   "cell_type": "code",
   "execution_count": null,
   "id": "30ae12b6",
   "metadata": {},
   "outputs": [],
   "source": [
    "df.isnull().sum()"
   ]
  },
  {
   "cell_type": "markdown",
   "id": "f2b07f79",
   "metadata": {},
   "source": [
    "Drop unnamed column"
   ]
  },
  {
   "cell_type": "code",
   "execution_count": null,
   "id": "754f4fec",
   "metadata": {},
   "outputs": [],
   "source": [
    "df = df.drop('Unnamed: 0', axis = 1)\n",
    "print(df.head())"
   ]
  },
  {
   "cell_type": "markdown",
   "id": "e793f9c7",
   "metadata": {},
   "source": [
    "Change weekly study hours column"
   ]
  },
  {
   "cell_type": "code",
   "execution_count": null,
   "id": "83c36084",
   "metadata": {},
   "outputs": [],
   "source": [
    "df['WklyStudyHours'] = df['WklyStudyHours'].str.replace('05-Oct', '5 - 10')\n",
    "df.head()"
   ]
  },
  {
   "cell_type": "markdown",
   "id": "f81774e7",
   "metadata": {},
   "source": [
    "Gender distribution"
   ]
  },
  {
   "cell_type": "code",
   "execution_count": null,
   "id": "90d6be8e",
   "metadata": {},
   "outputs": [],
   "source": [
    "ax = sns.countplot(data = df, x = 'Gender')\n",
    "ax.bar_label(ax.containers[0])\n",
    "plt.title('Gender Distribution')\n",
    "plt.show()"
   ]
  },
  {
   "cell_type": "markdown",
   "id": "a7736d07",
   "metadata": {},
   "source": [
    "Parent's Education"
   ]
  },
  {
   "cell_type": "code",
   "execution_count": null,
   "id": "849b9654",
   "metadata": {},
   "outputs": [],
   "source": [
    "gb = df.groupby('ParentEduc').agg({'MathScore': 'mean', 'ReadingScore': 'mean', 'WritingScore': 'mean'})\n",
    "print(gb)"
   ]
  },
  {
   "cell_type": "code",
   "execution_count": null,
   "id": "03e8c6dd",
   "metadata": {},
   "outputs": [],
   "source": [
    "sns.heatmap(gb, annot = True)\n",
    "plt.title(\"Relationship between Parent's Education and Student's Score\")\n",
    "plt.show()"
   ]
  },
  {
   "cell_type": "markdown",
   "id": "a25db9b7",
   "metadata": {},
   "source": [
    "Parent Marital Status"
   ]
  },
  {
   "cell_type": "code",
   "execution_count": null,
   "id": "242e152d",
   "metadata": {},
   "outputs": [],
   "source": [
    "gb1 = df.groupby('ParentMaritalStatus').agg({'MathScore': 'mean', 'ReadingScore': 'mean', 'WritingScore': 'mean'})\n",
    "print(gb1)"
   ]
  },
  {
   "cell_type": "code",
   "execution_count": null,
   "id": "b95f2fae",
   "metadata": {},
   "outputs": [],
   "source": [
    "sns.heatmap(gb1, annot = True)\n",
    "plt.title(\"Relationship between Parent's Marital Status and Student's Score\")\n",
    "plt.show()"
   ]
  },
  {
   "cell_type": "markdown",
   "id": "2e7d1bdc",
   "metadata": {},
   "source": [
    "Distribution of Ethnic Groups"
   ]
  },
  {
   "cell_type": "code",
   "execution_count": null,
   "id": "cecdc7aa",
   "metadata": {},
   "outputs": [],
   "source": [
    "print(df['EthnicGroup'].unique())"
   ]
  },
  {
   "cell_type": "code",
   "execution_count": null,
   "id": "48e0930e",
   "metadata": {},
   "outputs": [],
   "source": [
    "groupA = df.loc[(df['EthnicGroup'] == 'group A')].count()\n",
    "groupB = df.loc[(df['EthnicGroup'] == 'group B')].count()\n",
    "groupC = df.loc[(df['EthnicGroup'] == 'group C')].count()\n",
    "groupD = df.loc[(df['EthnicGroup'] == 'group D')].count()\n",
    "groupE = df.loc[(df['EthnicGroup'] == 'group E')].count()\n",
    "\n",
    "l = ['group A', 'group B', 'group C', 'group D', 'group E']\n",
    "new_list = [groupA['EthnicGroup'], groupB['EthnicGroup'], groupC['EthnicGroup'], \n",
    "            groupD['EthnicGroup'], groupE['EthnicGroup']]\n",
    "\n",
    "plt.pie(new_list, labels = l, autopct= '%1.2f%%')\n",
    "plt.title('Distribution of Ethnic Groups')\n",
    "plt.show()"
   ]
  }
 ],
 "metadata": {
  "kernelspec": {
   "display_name": "Python 3",
   "language": "python",
   "name": "python3"
  },
  "language_info": {
   "codemirror_mode": {
    "name": "ipython",
    "version": 3
   },
   "file_extension": ".py",
   "mimetype": "text/x-python",
   "name": "python",
   "nbconvert_exporter": "python",
   "pygments_lexer": "ipython3",
   "version": "3.11.0"
  }
 },
 "nbformat": 4,
 "nbformat_minor": 5
}
